{
 "cells": [
  {
   "cell_type": "code",
   "execution_count": 4,
   "metadata": {
    "collapsed": true
   },
   "outputs": [],
   "source": [
    "import bs4\n",
    "from bs4 import BeautifulSoup\n",
    "import urllib.request\n",
    "import pandas as pd\n",
    "\n",
    "pages = 20\n",
    "rec_count = 0\n",
    "rank = []\n",
    "gname = []\n",
    "platform = []\n",
    "year = []\n",
    "genre = []\n",
    "publisher = []\n",
    "sales_na = []\n",
    "sales_eu = []\n",
    "sales_jp = []\n",
    "sales_ot = []\n",
    "sales_gl = []\n",
    "\n",
    "urlhead = 'http://www.vgchartz.com/gamedb/?page='\n",
    "urltail = '&results=1000&name=&platform=&minSales=0.01&publisher=&genre=&sort=GL'"
   ]
  },
  {
   "cell_type": "code",
   "execution_count": 5,
   "metadata": {
    "scrolled": true
   },
   "outputs": [
    {
     "name": "stdout",
     "output_type": "stream",
     "text": [
      "1\n",
      "2\n",
      "3\n",
      "4\n",
      "5\n",
      "6\n",
      "7\n",
      "8\n",
      "9\n",
      "10\n",
      "11\n",
      "12\n",
      "13\n",
      "14\n",
      "15\n",
      "16\n",
      "17\n",
      "18\n",
      "19\n",
      "16940\n",
      "['Rank', 'Name', 'Platform', 'Year', 'Genre', 'Publisher', 'NA_Sales', 'EU_Sales', 'JP_Sales', 'Other_Sales', 'Global_Sales']\n"
     ]
    }
   ],
   "source": [
    "for page in range(1,pages):\n",
    "    surl = urlhead + str(page) + urltail\n",
    "    r = urllib.request.urlopen(surl).read()\n",
    "    soup = BeautifulSoup(r, \"lxml\")\n",
    "    print (page)\n",
    "    chart = soup.find(\"table\", class_=\"chart\")\n",
    "    for row in chart.find_all('tr')[1:]:\n",
    "        try: \n",
    "            col = row.find_all('td')\n",
    "            \n",
    "            #extract data into column data\n",
    "            column_1 = col[0].string.strip()\n",
    "            column_2 = col[1].string.strip()\n",
    "            column_3 = col[2].string.strip()\n",
    "            column_4 = col[3].string.strip()\n",
    "            column_5 = col[4].string.strip()\n",
    "            column_6 = col[5].string.strip()\n",
    "            column_7 = col[6].string.strip()\n",
    "            column_8 = col[7].string.strip()\n",
    "            column_9 = col[8].string.strip()\n",
    "            column_10 = col[9].string.strip()\n",
    "            column_11 = col[10].string.strip()\n",
    "\n",
    "            #Add Data to columns\n",
    "            #Adding data only if able to read all of the columns\n",
    "            rank.append(column_1)\n",
    "            gname.append(column_2)\n",
    "            platform.append(column_3)\n",
    "            year.append(column_4)\n",
    "            genre.append(column_5)\n",
    "            publisher.append(column_6)\n",
    "            sales_na.append(column_7)\n",
    "            sales_eu.append(column_8)\n",
    "            sales_jp.append(column_9)\n",
    "            sales_ot.append(column_10)\n",
    "            sales_gl.append(column_11)\n",
    "\n",
    "            rec_count += 1\n",
    "\n",
    "        except:\n",
    "            continue\n",
    "\n",
    "columns = {'Rank': rank, 'Name': gname, 'Platform': platform, 'Year': year, 'Genre': genre, 'Publisher': publisher, 'NA_Sales':sales_na, 'EU_Sales': sales_eu,'JP_Sales': sales_jp,'Other_Sales':sales_ot, 'Global_Sales':sales_gl }\n",
    "print (rec_count)\n",
    "df = pd.DataFrame(columns)\n",
    "df = df[['Rank','Name','Platform','Year','Genre','Publisher','NA_Sales','EU_Sales','JP_Sales','Other_Sales','Global_Sales']]\n",
    "print (list(df))\n",
    "del df.index.name\n",
    "df.to_csv(\"vgsales.csv\",sep=\",\",encoding='utf-8')"
   ]
  },
  {
   "cell_type": "code",
   "execution_count": null,
   "metadata": {
    "collapsed": true
   },
   "outputs": [],
   "source": []
  }
 ],
 "metadata": {
  "kernelspec": {
   "display_name": "Python 3",
   "language": "python",
   "name": "python3"
  },
  "language_info": {
   "codemirror_mode": {
    "name": "ipython",
    "version": 3
   },
   "file_extension": ".py",
   "mimetype": "text/x-python",
   "name": "python",
   "nbconvert_exporter": "python",
   "pygments_lexer": "ipython3",
   "version": "3.6.1"
  }
 },
 "nbformat": 4,
 "nbformat_minor": 2
}
